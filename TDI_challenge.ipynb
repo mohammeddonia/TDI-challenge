{
 "cells": [
  {
   "cell_type": "code",
   "execution_count": 1,
   "metadata": {},
   "outputs": [],
   "source": [
    "import numpy as np\n",
    "import matplotlib.pyplot as plt\n",
    "import pandas as pd"
   ]
  },
  {
   "cell_type": "code",
   "execution_count": 2,
   "metadata": {},
   "outputs": [
    {
     "name": "stderr",
     "output_type": "stream",
     "text": [
      "C:\\Users\\user\\Anaconda3\\lib\\site-packages\\IPython\\core\\interactiveshell.py:2785: DtypeWarning: Columns (2,17,18,20) have mixed types. Specify dtype option on import or set low_memory=False.\n",
      "  interactivity=interactivity, compiler=compiler, result=result)\n"
     ]
    }
   ],
   "source": [
    "df = pd.read_csv('Parking_Citations.csv')"
   ]
  },
  {
   "cell_type": "code",
   "execution_count": 3,
   "metadata": {
    "collapsed": true
   },
   "outputs": [
    {
     "ename": "KeyboardInterrupt",
     "evalue": "",
     "output_type": "error",
     "traceback": [
      "\u001b[1;31m---------------------------------------------------------------------------\u001b[0m",
      "\u001b[1;31mValueError\u001b[0m                                Traceback (most recent call last)",
      "\u001b[1;32mpandas\\_libs\\tslib.pyx\u001b[0m in \u001b[0;36mpandas._libs.tslib.array_to_datetime\u001b[1;34m()\u001b[0m\n",
      "\u001b[1;32mpandas\\_libs\\tslibs\\np_datetime.pyx\u001b[0m in \u001b[0;36mpandas._libs.tslibs.np_datetime._string_to_dts\u001b[1;34m()\u001b[0m\n",
      "\u001b[1;31mValueError\u001b[0m: Error parsing datetime string \"03/09/2019 04:03:00 AM\" at position 2",
      "\nDuring handling of the above exception, another exception occurred:\n",
      "\u001b[1;31mKeyboardInterrupt\u001b[0m                         Traceback (most recent call last)",
      "\u001b[1;32m<ipython-input-3-241c1bfc628a>\u001b[0m in \u001b[0;36m<module>\u001b[1;34m()\u001b[0m\n\u001b[0;32m      1\u001b[0m \u001b[0mdf\u001b[0m\u001b[1;33m[\u001b[0m\u001b[1;34m'ViolDate'\u001b[0m\u001b[1;33m]\u001b[0m \u001b[1;33m=\u001b[0m \u001b[0mpd\u001b[0m\u001b[1;33m.\u001b[0m\u001b[0mto_datetime\u001b[0m\u001b[1;33m(\u001b[0m\u001b[0mdf\u001b[0m\u001b[1;33m[\u001b[0m\u001b[1;34m'ViolDate'\u001b[0m\u001b[1;33m]\u001b[0m\u001b[1;33m)\u001b[0m\u001b[1;33m\u001b[0m\u001b[0m\n\u001b[1;32m----> 2\u001b[1;33m \u001b[0mdf\u001b[0m\u001b[1;33m[\u001b[0m\u001b[1;34m'ImportDate'\u001b[0m\u001b[1;33m]\u001b[0m \u001b[1;33m=\u001b[0m \u001b[0mpd\u001b[0m\u001b[1;33m.\u001b[0m\u001b[0mto_datetime\u001b[0m\u001b[1;33m(\u001b[0m\u001b[0mdf\u001b[0m\u001b[1;33m[\u001b[0m\u001b[1;34m'ImportDate'\u001b[0m\u001b[1;33m]\u001b[0m\u001b[1;33m)\u001b[0m\u001b[1;33m\u001b[0m\u001b[0m\n\u001b[0m",
      "\u001b[1;32m~\\Anaconda3\\lib\\site-packages\\pandas\\core\\tools\\datetimes.py\u001b[0m in \u001b[0;36mto_datetime\u001b[1;34m(arg, errors, dayfirst, yearfirst, utc, box, format, exact, unit, infer_datetime_format, origin, cache)\u001b[0m\n\u001b[0;32m    449\u001b[0m         \u001b[1;32melse\u001b[0m\u001b[1;33m:\u001b[0m\u001b[1;33m\u001b[0m\u001b[0m\n\u001b[0;32m    450\u001b[0m             \u001b[1;32mfrom\u001b[0m \u001b[0mpandas\u001b[0m \u001b[1;32mimport\u001b[0m \u001b[0mSeries\u001b[0m\u001b[1;33m\u001b[0m\u001b[0m\n\u001b[1;32m--> 451\u001b[1;33m             \u001b[0mvalues\u001b[0m \u001b[1;33m=\u001b[0m \u001b[0m_convert_listlike\u001b[0m\u001b[1;33m(\u001b[0m\u001b[0marg\u001b[0m\u001b[1;33m.\u001b[0m\u001b[0m_values\u001b[0m\u001b[1;33m,\u001b[0m \u001b[1;32mTrue\u001b[0m\u001b[1;33m,\u001b[0m \u001b[0mformat\u001b[0m\u001b[1;33m)\u001b[0m\u001b[1;33m\u001b[0m\u001b[0m\n\u001b[0m\u001b[0;32m    452\u001b[0m             \u001b[0mresult\u001b[0m \u001b[1;33m=\u001b[0m \u001b[0mSeries\u001b[0m\u001b[1;33m(\u001b[0m\u001b[0mvalues\u001b[0m\u001b[1;33m,\u001b[0m \u001b[0mindex\u001b[0m\u001b[1;33m=\u001b[0m\u001b[0marg\u001b[0m\u001b[1;33m.\u001b[0m\u001b[0mindex\u001b[0m\u001b[1;33m,\u001b[0m \u001b[0mname\u001b[0m\u001b[1;33m=\u001b[0m\u001b[0marg\u001b[0m\u001b[1;33m.\u001b[0m\u001b[0mname\u001b[0m\u001b[1;33m)\u001b[0m\u001b[1;33m\u001b[0m\u001b[0m\n\u001b[0;32m    453\u001b[0m     \u001b[1;32melif\u001b[0m \u001b[0misinstance\u001b[0m\u001b[1;33m(\u001b[0m\u001b[0marg\u001b[0m\u001b[1;33m,\u001b[0m \u001b[1;33m(\u001b[0m\u001b[0mABCDataFrame\u001b[0m\u001b[1;33m,\u001b[0m \u001b[0mMutableMapping\u001b[0m\u001b[1;33m)\u001b[0m\u001b[1;33m)\u001b[0m\u001b[1;33m:\u001b[0m\u001b[1;33m\u001b[0m\u001b[0m\n",
      "\u001b[1;32m~\\Anaconda3\\lib\\site-packages\\pandas\\core\\tools\\datetimes.py\u001b[0m in \u001b[0;36m_convert_listlike\u001b[1;34m(arg, box, format, name, tz)\u001b[0m\n\u001b[0;32m    366\u001b[0m                     \u001b[0mdayfirst\u001b[0m\u001b[1;33m=\u001b[0m\u001b[0mdayfirst\u001b[0m\u001b[1;33m,\u001b[0m\u001b[1;33m\u001b[0m\u001b[0m\n\u001b[0;32m    367\u001b[0m                     \u001b[0myearfirst\u001b[0m\u001b[1;33m=\u001b[0m\u001b[0myearfirst\u001b[0m\u001b[1;33m,\u001b[0m\u001b[1;33m\u001b[0m\u001b[0m\n\u001b[1;32m--> 368\u001b[1;33m                     \u001b[0mrequire_iso8601\u001b[0m\u001b[1;33m=\u001b[0m\u001b[0mrequire_iso8601\u001b[0m\u001b[1;33m\u001b[0m\u001b[0m\n\u001b[0m\u001b[0;32m    369\u001b[0m                 )\n\u001b[0;32m    370\u001b[0m \u001b[1;33m\u001b[0m\u001b[0m\n",
      "\u001b[1;32mpandas\\_libs\\tslib.pyx\u001b[0m in \u001b[0;36mpandas._libs.tslib.array_to_datetime\u001b[1;34m()\u001b[0m\n",
      "\u001b[1;32mpandas\\_libs\\tslib.pyx\u001b[0m in \u001b[0;36mpandas._libs.tslib.array_to_datetime\u001b[1;34m()\u001b[0m\n",
      "\u001b[1;32mpandas\\_libs\\tslibs\\parsing.pyx\u001b[0m in \u001b[0;36mpandas._libs.tslibs.parsing.parse_datetime_string\u001b[1;34m()\u001b[0m\n",
      "\u001b[1;32m~\\Anaconda3\\lib\\site-packages\\dateutil\\parser\\_parser.py\u001b[0m in \u001b[0;36mparse\u001b[1;34m(timestr, parserinfo, **kwargs)\u001b[0m\n\u001b[0;32m   1354\u001b[0m         \u001b[1;32mreturn\u001b[0m \u001b[0mparser\u001b[0m\u001b[1;33m(\u001b[0m\u001b[0mparserinfo\u001b[0m\u001b[1;33m)\u001b[0m\u001b[1;33m.\u001b[0m\u001b[0mparse\u001b[0m\u001b[1;33m(\u001b[0m\u001b[0mtimestr\u001b[0m\u001b[1;33m,\u001b[0m \u001b[1;33m**\u001b[0m\u001b[0mkwargs\u001b[0m\u001b[1;33m)\u001b[0m\u001b[1;33m\u001b[0m\u001b[0m\n\u001b[0;32m   1355\u001b[0m     \u001b[1;32melse\u001b[0m\u001b[1;33m:\u001b[0m\u001b[1;33m\u001b[0m\u001b[0m\n\u001b[1;32m-> 1356\u001b[1;33m         \u001b[1;32mreturn\u001b[0m \u001b[0mDEFAULTPARSER\u001b[0m\u001b[1;33m.\u001b[0m\u001b[0mparse\u001b[0m\u001b[1;33m(\u001b[0m\u001b[0mtimestr\u001b[0m\u001b[1;33m,\u001b[0m \u001b[1;33m**\u001b[0m\u001b[0mkwargs\u001b[0m\u001b[1;33m)\u001b[0m\u001b[1;33m\u001b[0m\u001b[0m\n\u001b[0m\u001b[0;32m   1357\u001b[0m \u001b[1;33m\u001b[0m\u001b[0m\n\u001b[0;32m   1358\u001b[0m \u001b[1;33m\u001b[0m\u001b[0m\n",
      "\u001b[1;32m~\\Anaconda3\\lib\\site-packages\\dateutil\\parser\\_parser.py\u001b[0m in \u001b[0;36mparse\u001b[1;34m(self, timestr, default, ignoretz, tzinfos, **kwargs)\u001b[0m\n\u001b[0;32m    643\u001b[0m                                                       second=0, microsecond=0)\n\u001b[0;32m    644\u001b[0m \u001b[1;33m\u001b[0m\u001b[0m\n\u001b[1;32m--> 645\u001b[1;33m         \u001b[0mres\u001b[0m\u001b[1;33m,\u001b[0m \u001b[0mskipped_tokens\u001b[0m \u001b[1;33m=\u001b[0m \u001b[0mself\u001b[0m\u001b[1;33m.\u001b[0m\u001b[0m_parse\u001b[0m\u001b[1;33m(\u001b[0m\u001b[0mtimestr\u001b[0m\u001b[1;33m,\u001b[0m \u001b[1;33m**\u001b[0m\u001b[0mkwargs\u001b[0m\u001b[1;33m)\u001b[0m\u001b[1;33m\u001b[0m\u001b[0m\n\u001b[0m\u001b[0;32m    646\u001b[0m \u001b[1;33m\u001b[0m\u001b[0m\n\u001b[0;32m    647\u001b[0m         \u001b[1;32mif\u001b[0m \u001b[0mres\u001b[0m \u001b[1;32mis\u001b[0m \u001b[1;32mNone\u001b[0m\u001b[1;33m:\u001b[0m\u001b[1;33m\u001b[0m\u001b[0m\n",
      "\u001b[1;32m~\\Anaconda3\\lib\\site-packages\\dateutil\\parser\\_parser.py\u001b[0m in \u001b[0;36m_parse\u001b[1;34m(self, timestr, dayfirst, yearfirst, fuzzy, fuzzy_with_tokens)\u001b[0m\n\u001b[0;32m    856\u001b[0m \u001b[1;33m\u001b[0m\u001b[0m\n\u001b[0;32m    857\u001b[0m             \u001b[1;31m# Process year/month/day\u001b[0m\u001b[1;33m\u001b[0m\u001b[1;33m\u001b[0m\u001b[0m\n\u001b[1;32m--> 858\u001b[1;33m             \u001b[0myear\u001b[0m\u001b[1;33m,\u001b[0m \u001b[0mmonth\u001b[0m\u001b[1;33m,\u001b[0m \u001b[0mday\u001b[0m \u001b[1;33m=\u001b[0m \u001b[0mymd\u001b[0m\u001b[1;33m.\u001b[0m\u001b[0mresolve_ymd\u001b[0m\u001b[1;33m(\u001b[0m\u001b[0myearfirst\u001b[0m\u001b[1;33m,\u001b[0m \u001b[0mdayfirst\u001b[0m\u001b[1;33m)\u001b[0m\u001b[1;33m\u001b[0m\u001b[0m\n\u001b[0m\u001b[0;32m    859\u001b[0m \u001b[1;33m\u001b[0m\u001b[0m\n\u001b[0;32m    860\u001b[0m             \u001b[0mres\u001b[0m\u001b[1;33m.\u001b[0m\u001b[0mcentury_specified\u001b[0m \u001b[1;33m=\u001b[0m \u001b[0mymd\u001b[0m\u001b[1;33m.\u001b[0m\u001b[0mcentury_specified\u001b[0m\u001b[1;33m\u001b[0m\u001b[0m\n",
      "\u001b[1;32m~\\Anaconda3\\lib\\site-packages\\dateutil\\parser\\_parser.py\u001b[0m in \u001b[0;36mresolve_ymd\u001b[1;34m(self, yearfirst, dayfirst)\u001b[0m\n\u001b[0;32m    478\u001b[0m \u001b[1;33m\u001b[0m\u001b[0m\n\u001b[0;32m    479\u001b[0m     \u001b[1;32mdef\u001b[0m \u001b[0mresolve_ymd\u001b[0m\u001b[1;33m(\u001b[0m\u001b[0mself\u001b[0m\u001b[1;33m,\u001b[0m \u001b[0myearfirst\u001b[0m\u001b[1;33m,\u001b[0m \u001b[0mdayfirst\u001b[0m\u001b[1;33m)\u001b[0m\u001b[1;33m:\u001b[0m\u001b[1;33m\u001b[0m\u001b[0m\n\u001b[1;32m--> 480\u001b[1;33m         \u001b[0mlen_ymd\u001b[0m \u001b[1;33m=\u001b[0m \u001b[0mlen\u001b[0m\u001b[1;33m(\u001b[0m\u001b[0mself\u001b[0m\u001b[1;33m)\u001b[0m\u001b[1;33m\u001b[0m\u001b[0m\n\u001b[0m\u001b[0;32m    481\u001b[0m         \u001b[0myear\u001b[0m\u001b[1;33m,\u001b[0m \u001b[0mmonth\u001b[0m\u001b[1;33m,\u001b[0m \u001b[0mday\u001b[0m \u001b[1;33m=\u001b[0m \u001b[1;33m(\u001b[0m\u001b[1;32mNone\u001b[0m\u001b[1;33m,\u001b[0m \u001b[1;32mNone\u001b[0m\u001b[1;33m,\u001b[0m \u001b[1;32mNone\u001b[0m\u001b[1;33m)\u001b[0m\u001b[1;33m\u001b[0m\u001b[0m\n\u001b[0;32m    482\u001b[0m \u001b[1;33m\u001b[0m\u001b[0m\n",
      "\u001b[1;31mKeyboardInterrupt\u001b[0m: "
     ]
    }
   ],
   "source": [
    "df['ViolDate'] = pd.to_datetime(df['ViolDate'])"
   ]
  },
  {
   "cell_type": "code",
   "execution_count": 8,
   "metadata": {
    "collapsed": true
   },
   "outputs": [
    {
     "data": {
      "text/plain": [
       "0         2018-04-12 17:36:00\n",
       "1         2018-12-20 12:09:00\n",
       "2         2018-04-12 17:14:00\n",
       "3         2018-04-12 19:14:00\n",
       "4         2018-04-12 17:20:00\n",
       "5         2018-04-12 15:14:00\n",
       "6         2018-04-12 16:34:00\n",
       "7         2018-04-12 15:13:00\n",
       "8         2018-04-12 18:40:00\n",
       "9         2018-04-12 14:37:00\n",
       "10        2018-04-12 15:46:00\n",
       "11        2018-04-12 12:17:00\n",
       "12        2018-04-13 07:40:00\n",
       "13        2018-12-20 12:12:00\n",
       "14        2018-12-20 12:13:00\n",
       "15        2018-04-12 16:14:00\n",
       "16        2018-04-12 13:29:00\n",
       "17        2018-04-12 18:05:00\n",
       "18        2011-12-12 09:16:00\n",
       "19        2018-04-13 06:28:00\n",
       "20        2018-04-12 18:58:00\n",
       "21        2018-04-12 19:13:00\n",
       "22        2018-04-13 06:47:00\n",
       "23        2018-04-12 18:06:00\n",
       "24        2018-04-12 15:11:00\n",
       "25        2018-04-12 15:24:00\n",
       "26        2018-04-12 18:11:00\n",
       "27        2018-04-13 06:48:00\n",
       "28        2018-04-12 17:12:00\n",
       "29        2018-12-20 12:14:00\n",
       "                  ...        \n",
       "3379378   2016-09-07 10:18:00\n",
       "3379379   2016-09-13 08:24:00\n",
       "3379380   2016-09-02 12:42:00\n",
       "3379381   2016-09-07 08:07:00\n",
       "3379382   2016-08-31 10:17:00\n",
       "3379383   2016-10-04 12:09:00\n",
       "3379384   2016-10-14 08:23:00\n",
       "3379385   2016-10-04 11:32:00\n",
       "3379386   2016-10-14 10:23:00\n",
       "3379387   2016-10-13 11:48:00\n",
       "3379388   2016-10-11 12:04:00\n",
       "3379389   2016-10-12 08:55:00\n",
       "3379390   2016-10-15 09:03:00\n",
       "3379391   2016-10-12 11:19:00\n",
       "3379392   2016-10-13 12:11:00\n",
       "3379393   2016-10-14 07:31:00\n",
       "3379394   2016-10-11 09:48:00\n",
       "3379395   2016-10-11 08:28:00\n",
       "3379396   2016-10-11 09:30:00\n",
       "3379397   2016-10-14 07:25:00\n",
       "3379398   2016-10-11 13:26:00\n",
       "3379399   2016-12-01 09:50:00\n",
       "3379400   2016-10-31 15:03:00\n",
       "3379401   2016-11-14 11:53:00\n",
       "3379402   2016-11-21 08:34:00\n",
       "3379403   2016-11-14 13:10:00\n",
       "3379404   2016-12-08 09:25:00\n",
       "3379405   2017-01-18 08:34:00\n",
       "3379406   2017-10-10 13:43:00\n",
       "3379407   2017-03-30 09:12:00\n",
       "Name: ViolDate, Length: 3379408, dtype: datetime64[ns]"
      ]
     },
     "execution_count": 8,
     "metadata": {},
     "output_type": "execute_result"
    }
   ],
   "source": [
    "df['ViolDate']"
   ]
  },
  {
   "cell_type": "code",
   "execution_count": 9,
   "metadata": {},
   "outputs": [],
   "source": [
    "dff = df[df['ViolDate']<'2019-01-01']"
   ]
  },
  {
   "cell_type": "code",
   "execution_count": 10,
   "metadata": {},
   "outputs": [
    {
     "data": {
      "text/html": [
       "<div>\n",
       "<style scoped>\n",
       "    .dataframe tbody tr th:only-of-type {\n",
       "        vertical-align: middle;\n",
       "    }\n",
       "\n",
       "    .dataframe tbody tr th {\n",
       "        vertical-align: top;\n",
       "    }\n",
       "\n",
       "    .dataframe thead th {\n",
       "        text-align: right;\n",
       "    }\n",
       "</style>\n",
       "<table border=\"1\" class=\"dataframe\">\n",
       "  <thead>\n",
       "    <tr style=\"text-align: right;\">\n",
       "      <th></th>\n",
       "      <th>Citation</th>\n",
       "      <th>Tag</th>\n",
       "      <th>ExpMM</th>\n",
       "      <th>ExpYY</th>\n",
       "      <th>State</th>\n",
       "      <th>Make</th>\n",
       "      <th>Address</th>\n",
       "      <th>ViolCode</th>\n",
       "      <th>Description</th>\n",
       "      <th>ViolFine</th>\n",
       "      <th>...</th>\n",
       "      <th>Balance</th>\n",
       "      <th>PenaltyDate</th>\n",
       "      <th>OpenFine</th>\n",
       "      <th>OpenPenalty</th>\n",
       "      <th>NoticeDate</th>\n",
       "      <th>ImportDate</th>\n",
       "      <th>Neighborhood</th>\n",
       "      <th>PoliceDistrict</th>\n",
       "      <th>CouncilDistrict</th>\n",
       "      <th>Location</th>\n",
       "    </tr>\n",
       "  </thead>\n",
       "  <tbody>\n",
       "    <tr>\n",
       "      <th>0</th>\n",
       "      <td>82691651</td>\n",
       "      <td>69943CF</td>\n",
       "      <td>04</td>\n",
       "      <td>19.0</td>\n",
       "      <td>MD</td>\n",
       "      <td>MAZD</td>\n",
       "      <td>1300 BLK EAST NORTHERN PKWY WB</td>\n",
       "      <td>32</td>\n",
       "      <td>Fixed Speed Camera</td>\n",
       "      <td>40.0</td>\n",
       "      <td>...</td>\n",
       "      <td>0.0</td>\n",
       "      <td>NaN</td>\n",
       "      <td>0.0</td>\n",
       "      <td>0.0</td>\n",
       "      <td>NaN</td>\n",
       "      <td>04/26/2018 04:02:00 AM</td>\n",
       "      <td>NaN</td>\n",
       "      <td>NaN</td>\n",
       "      <td>NaN</td>\n",
       "      <td>1300 BLK EAST NORTHERN PKWY\\nWB Baltimore, MD\\...</td>\n",
       "    </tr>\n",
       "    <tr>\n",
       "      <th>1</th>\n",
       "      <td>85937226</td>\n",
       "      <td>T720887</td>\n",
       "      <td>12</td>\n",
       "      <td>18.0</td>\n",
       "      <td>MD</td>\n",
       "      <td>ACUR</td>\n",
       "      <td>300 BLK NORTH BEND RD SB</td>\n",
       "      <td>32</td>\n",
       "      <td>Fixed Speed Camera</td>\n",
       "      <td>40.0</td>\n",
       "      <td>...</td>\n",
       "      <td>40.0</td>\n",
       "      <td>NaN</td>\n",
       "      <td>0.0</td>\n",
       "      <td>0.0</td>\n",
       "      <td>NaN</td>\n",
       "      <td>01/03/2019 04:33:00 AM</td>\n",
       "      <td>NaN</td>\n",
       "      <td>NaN</td>\n",
       "      <td>NaN</td>\n",
       "      <td>NaN</td>\n",
       "    </tr>\n",
       "    <tr>\n",
       "      <th>2</th>\n",
       "      <td>82691115</td>\n",
       "      <td>5BA2678</td>\n",
       "      <td>03</td>\n",
       "      <td>19.0</td>\n",
       "      <td>MD</td>\n",
       "      <td>TOYT</td>\n",
       "      <td>5000 BLK ROLAND AVE NB</td>\n",
       "      <td>32</td>\n",
       "      <td>Fixed Speed Camera</td>\n",
       "      <td>40.0</td>\n",
       "      <td>...</td>\n",
       "      <td>0.0</td>\n",
       "      <td>NaN</td>\n",
       "      <td>0.0</td>\n",
       "      <td>0.0</td>\n",
       "      <td>NaN</td>\n",
       "      <td>04/26/2018 04:02:00 AM</td>\n",
       "      <td>NaN</td>\n",
       "      <td>NaN</td>\n",
       "      <td>NaN</td>\n",
       "      <td>5000 BLK ROLAND AVE\\nNB Baltimore, MD\\n(39.353...</td>\n",
       "    </tr>\n",
       "    <tr>\n",
       "      <th>3</th>\n",
       "      <td>82694689</td>\n",
       "      <td>5BT8544</td>\n",
       "      <td>01</td>\n",
       "      <td>18.0</td>\n",
       "      <td>MD</td>\n",
       "      <td>FORD</td>\n",
       "      <td>2400 BLK ERDMAN AVE NB</td>\n",
       "      <td>32</td>\n",
       "      <td>Fixed Speed Camera</td>\n",
       "      <td>40.0</td>\n",
       "      <td>...</td>\n",
       "      <td>0.0</td>\n",
       "      <td>NaN</td>\n",
       "      <td>0.0</td>\n",
       "      <td>0.0</td>\n",
       "      <td>NaN</td>\n",
       "      <td>04/26/2018 04:02:00 AM</td>\n",
       "      <td>NaN</td>\n",
       "      <td>NaN</td>\n",
       "      <td>NaN</td>\n",
       "      <td>2400 BLK ERDMAN AVE\\nNB Baltimore, MD\\n(39.325...</td>\n",
       "    </tr>\n",
       "    <tr>\n",
       "      <th>4</th>\n",
       "      <td>82691214</td>\n",
       "      <td>1BV0537</td>\n",
       "      <td>11</td>\n",
       "      <td>18.0</td>\n",
       "      <td>MD</td>\n",
       "      <td>SUBA</td>\n",
       "      <td>1300 BLK WEST COLD SPRING LN W</td>\n",
       "      <td>32</td>\n",
       "      <td>Fixed Speed Camera</td>\n",
       "      <td>40.0</td>\n",
       "      <td>...</td>\n",
       "      <td>0.0</td>\n",
       "      <td>NaN</td>\n",
       "      <td>0.0</td>\n",
       "      <td>0.0</td>\n",
       "      <td>NaN</td>\n",
       "      <td>04/26/2018 04:02:00 AM</td>\n",
       "      <td>NaN</td>\n",
       "      <td>NaN</td>\n",
       "      <td>NaN</td>\n",
       "      <td>1300 BLK WEST COLD SPRING LN W\\nBaltimore, MD\\...</td>\n",
       "    </tr>\n",
       "  </tbody>\n",
       "</table>\n",
       "<p>5 rows × 21 columns</p>\n",
       "</div>"
      ],
      "text/plain": [
       "   Citation      Tag ExpMM  ExpYY State  Make                         Address  \\\n",
       "0  82691651  69943CF    04   19.0    MD  MAZD  1300 BLK EAST NORTHERN PKWY WB   \n",
       "1  85937226  T720887    12   18.0    MD  ACUR        300 BLK NORTH BEND RD SB   \n",
       "2  82691115  5BA2678    03   19.0    MD  TOYT          5000 BLK ROLAND AVE NB   \n",
       "3  82694689  5BT8544    01   18.0    MD  FORD          2400 BLK ERDMAN AVE NB   \n",
       "4  82691214  1BV0537    11   18.0    MD  SUBA  1300 BLK WEST COLD SPRING LN W   \n",
       "\n",
       "   ViolCode         Description  ViolFine  \\\n",
       "0        32  Fixed Speed Camera      40.0   \n",
       "1        32  Fixed Speed Camera      40.0   \n",
       "2        32  Fixed Speed Camera      40.0   \n",
       "3        32  Fixed Speed Camera      40.0   \n",
       "4        32  Fixed Speed Camera      40.0   \n",
       "\n",
       "                         ...                         Balance  PenaltyDate  \\\n",
       "0                        ...                             0.0          NaN   \n",
       "1                        ...                            40.0          NaN   \n",
       "2                        ...                             0.0          NaN   \n",
       "3                        ...                             0.0          NaN   \n",
       "4                        ...                             0.0          NaN   \n",
       "\n",
       "   OpenFine  OpenPenalty  NoticeDate              ImportDate Neighborhood  \\\n",
       "0       0.0          0.0         NaN  04/26/2018 04:02:00 AM          NaN   \n",
       "1       0.0          0.0         NaN  01/03/2019 04:33:00 AM          NaN   \n",
       "2       0.0          0.0         NaN  04/26/2018 04:02:00 AM          NaN   \n",
       "3       0.0          0.0         NaN  04/26/2018 04:02:00 AM          NaN   \n",
       "4       0.0          0.0         NaN  04/26/2018 04:02:00 AM          NaN   \n",
       "\n",
       "  PoliceDistrict CouncilDistrict  \\\n",
       "0            NaN             NaN   \n",
       "1            NaN             NaN   \n",
       "2            NaN             NaN   \n",
       "3            NaN             NaN   \n",
       "4            NaN             NaN   \n",
       "\n",
       "                                            Location  \n",
       "0  1300 BLK EAST NORTHERN PKWY\\nWB Baltimore, MD\\...  \n",
       "1                                                NaN  \n",
       "2  5000 BLK ROLAND AVE\\nNB Baltimore, MD\\n(39.353...  \n",
       "3  2400 BLK ERDMAN AVE\\nNB Baltimore, MD\\n(39.325...  \n",
       "4  1300 BLK WEST COLD SPRING LN W\\nBaltimore, MD\\...  \n",
       "\n",
       "[5 rows x 21 columns]"
      ]
     },
     "execution_count": 10,
     "metadata": {},
     "output_type": "execute_result"
    }
   ],
   "source": [
    "dff.head()"
   ]
  },
  {
   "cell_type": "code",
   "execution_count": 11,
   "metadata": {},
   "outputs": [
    {
     "data": {
      "text/html": [
       "<div>\n",
       "<style scoped>\n",
       "    .dataframe tbody tr th:only-of-type {\n",
       "        vertical-align: middle;\n",
       "    }\n",
       "\n",
       "    .dataframe tbody tr th {\n",
       "        vertical-align: top;\n",
       "    }\n",
       "\n",
       "    .dataframe thead th {\n",
       "        text-align: right;\n",
       "    }\n",
       "</style>\n",
       "<table border=\"1\" class=\"dataframe\">\n",
       "  <thead>\n",
       "    <tr style=\"text-align: right;\">\n",
       "      <th></th>\n",
       "      <th>Citation</th>\n",
       "      <th>ExpYY</th>\n",
       "      <th>ViolCode</th>\n",
       "      <th>ViolFine</th>\n",
       "      <th>Balance</th>\n",
       "      <th>PenaltyDate</th>\n",
       "      <th>OpenFine</th>\n",
       "      <th>OpenPenalty</th>\n",
       "      <th>CouncilDistrict</th>\n",
       "    </tr>\n",
       "  </thead>\n",
       "  <tbody>\n",
       "    <tr>\n",
       "      <th>count</th>\n",
       "      <td>2.840515e+06</td>\n",
       "      <td>2.840497e+06</td>\n",
       "      <td>2.840515e+06</td>\n",
       "      <td>2.840515e+06</td>\n",
       "      <td>2.840515e+06</td>\n",
       "      <td>0.0</td>\n",
       "      <td>2.840515e+06</td>\n",
       "      <td>2.840515e+06</td>\n",
       "      <td>320386.000000</td>\n",
       "    </tr>\n",
       "    <tr>\n",
       "      <th>mean</th>\n",
       "      <td>7.318213e+07</td>\n",
       "      <td>1.597432e+01</td>\n",
       "      <td>2.482673e+01</td>\n",
       "      <td>4.916335e+01</td>\n",
       "      <td>4.660017e+01</td>\n",
       "      <td>NaN</td>\n",
       "      <td>2.455939e+01</td>\n",
       "      <td>2.101070e+01</td>\n",
       "      <td>8.388213</td>\n",
       "    </tr>\n",
       "    <tr>\n",
       "      <th>std</th>\n",
       "      <td>2.410178e+07</td>\n",
       "      <td>5.460966e+00</td>\n",
       "      <td>1.493023e+01</td>\n",
       "      <td>4.179881e+01</td>\n",
       "      <td>1.316143e+02</td>\n",
       "      <td>NaN</td>\n",
       "      <td>4.233994e+01</td>\n",
       "      <td>8.952455e+01</td>\n",
       "      <td>4.383157</td>\n",
       "    </tr>\n",
       "    <tr>\n",
       "      <th>min</th>\n",
       "      <td>9.100000e+01</td>\n",
       "      <td>0.000000e+00</td>\n",
       "      <td>1.000000e+00</td>\n",
       "      <td>1.700000e+01</td>\n",
       "      <td>0.000000e+00</td>\n",
       "      <td>NaN</td>\n",
       "      <td>0.000000e+00</td>\n",
       "      <td>0.000000e+00</td>\n",
       "      <td>1.000000</td>\n",
       "    </tr>\n",
       "    <tr>\n",
       "      <th>25%</th>\n",
       "      <td>6.146686e+07</td>\n",
       "      <td>1.500000e+01</td>\n",
       "      <td>1.800000e+01</td>\n",
       "      <td>3.200000e+01</td>\n",
       "      <td>0.000000e+00</td>\n",
       "      <td>NaN</td>\n",
       "      <td>0.000000e+00</td>\n",
       "      <td>0.000000e+00</td>\n",
       "      <td>6.000000</td>\n",
       "    </tr>\n",
       "    <tr>\n",
       "      <th>50%</th>\n",
       "      <td>8.166155e+07</td>\n",
       "      <td>1.700000e+01</td>\n",
       "      <td>2.600000e+01</td>\n",
       "      <td>4.000000e+01</td>\n",
       "      <td>0.000000e+00</td>\n",
       "      <td>NaN</td>\n",
       "      <td>2.300000e+01</td>\n",
       "      <td>0.000000e+00</td>\n",
       "      <td>11.000000</td>\n",
       "    </tr>\n",
       "    <tr>\n",
       "      <th>75%</th>\n",
       "      <td>9.337657e+07</td>\n",
       "      <td>1.900000e+01</td>\n",
       "      <td>3.200000e+01</td>\n",
       "      <td>5.200000e+01</td>\n",
       "      <td>4.000000e+01</td>\n",
       "      <td>NaN</td>\n",
       "      <td>3.200000e+01</td>\n",
       "      <td>0.000000e+00</td>\n",
       "      <td>11.000000</td>\n",
       "    </tr>\n",
       "    <tr>\n",
       "      <th>max</th>\n",
       "      <td>1.000000e+08</td>\n",
       "      <td>9.900000e+01</td>\n",
       "      <td>9.900000e+01</td>\n",
       "      <td>5.020000e+02</td>\n",
       "      <td>2.880000e+03</td>\n",
       "      <td>NaN</td>\n",
       "      <td>5.020000e+02</td>\n",
       "      <td>3.120000e+03</td>\n",
       "      <td>14.000000</td>\n",
       "    </tr>\n",
       "  </tbody>\n",
       "</table>\n",
       "</div>"
      ],
      "text/plain": [
       "           Citation         ExpYY      ViolCode      ViolFine       Balance  \\\n",
       "count  2.840515e+06  2.840497e+06  2.840515e+06  2.840515e+06  2.840515e+06   \n",
       "mean   7.318213e+07  1.597432e+01  2.482673e+01  4.916335e+01  4.660017e+01   \n",
       "std    2.410178e+07  5.460966e+00  1.493023e+01  4.179881e+01  1.316143e+02   \n",
       "min    9.100000e+01  0.000000e+00  1.000000e+00  1.700000e+01  0.000000e+00   \n",
       "25%    6.146686e+07  1.500000e+01  1.800000e+01  3.200000e+01  0.000000e+00   \n",
       "50%    8.166155e+07  1.700000e+01  2.600000e+01  4.000000e+01  0.000000e+00   \n",
       "75%    9.337657e+07  1.900000e+01  3.200000e+01  5.200000e+01  4.000000e+01   \n",
       "max    1.000000e+08  9.900000e+01  9.900000e+01  5.020000e+02  2.880000e+03   \n",
       "\n",
       "       PenaltyDate      OpenFine   OpenPenalty  CouncilDistrict  \n",
       "count          0.0  2.840515e+06  2.840515e+06    320386.000000  \n",
       "mean           NaN  2.455939e+01  2.101070e+01         8.388213  \n",
       "std            NaN  4.233994e+01  8.952455e+01         4.383157  \n",
       "min            NaN  0.000000e+00  0.000000e+00         1.000000  \n",
       "25%            NaN  0.000000e+00  0.000000e+00         6.000000  \n",
       "50%            NaN  2.300000e+01  0.000000e+00        11.000000  \n",
       "75%            NaN  3.200000e+01  0.000000e+00        11.000000  \n",
       "max            NaN  5.020000e+02  3.120000e+03        14.000000  "
      ]
     },
     "execution_count": 11,
     "metadata": {},
     "output_type": "execute_result"
    }
   ],
   "source": [
    "dff.describe()"
   ]
  },
  {
   "cell_type": "code",
   "execution_count": 13,
   "metadata": {},
   "outputs": [
    {
     "data": {
      "text/plain": [
       "49.16334749156403"
      ]
     },
     "execution_count": 13,
     "metadata": {},
     "output_type": "execute_result"
    }
   ],
   "source": [
    "np.mean(dff['ViolFine'])"
   ]
  },
  {
   "cell_type": "code",
   "execution_count": 12,
   "metadata": {},
   "outputs": [
    {
     "name": "stdout",
     "output_type": "stream",
     "text": [
      "<class 'pandas.core.frame.DataFrame'>\n",
      "Int64Index: 2840515 entries, 0 to 3379407\n",
      "Data columns (total 21 columns):\n",
      "Citation           int64\n",
      "Tag                object\n",
      "ExpMM              object\n",
      "ExpYY              float64\n",
      "State              object\n",
      "Make               object\n",
      "Address            object\n",
      "ViolCode           int64\n",
      "Description        object\n",
      "ViolFine           float64\n",
      "ViolDate           datetime64[ns]\n",
      "Balance            float64\n",
      "PenaltyDate        float64\n",
      "OpenFine           float64\n",
      "OpenPenalty        float64\n",
      "NoticeDate         object\n",
      "ImportDate         object\n",
      "Neighborhood       object\n",
      "PoliceDistrict     object\n",
      "CouncilDistrict    float64\n",
      "Location           object\n",
      "dtypes: datetime64[ns](1), float64(7), int64(2), object(11)\n",
      "memory usage: 476.8+ MB\n"
     ]
    }
   ],
   "source": [
    "dff.info()"
   ]
  },
  {
   "cell_type": "code",
   "execution_count": 16,
   "metadata": {},
   "outputs": [
    {
     "data": {
      "text/plain": [
       "48.88022540539255"
      ]
     },
     "execution_count": 16,
     "metadata": {},
     "output_type": "execute_result"
    }
   ],
   "source": [
    "np.mean(dff['ViolFine'][dff['OpenFine']!=0])"
   ]
  },
  {
   "cell_type": "code",
   "execution_count": 17,
   "metadata": {},
   "outputs": [
    {
     "data": {
      "text/plain": [
       "52.0"
      ]
     },
     "execution_count": 17,
     "metadata": {},
     "output_type": "execute_result"
    }
   ],
   "source": [
    "OpenFineCol = dff['ViolFine'][dff['OpenFine']!=0]\n",
    "np.percentile(OpenFineCol, 81)"
   ]
  },
  {
   "cell_type": "code",
   "execution_count": 72,
   "metadata": {},
   "outputs": [
    {
     "name": "stderr",
     "output_type": "stream",
     "text": [
      "C:\\Users\\user\\Anaconda3\\lib\\site-packages\\ipykernel_launcher.py:2: SettingWithCopyWarning: \n",
      "A value is trying to be set on a copy of a slice from a DataFrame.\n",
      "Try using .loc[row_indexer,col_indexer] = value instead\n",
      "\n",
      "See the caveats in the documentation: http://pandas.pydata.org/pandas-docs/stable/indexing.html#indexing-view-versus-copy\n",
      "  \n",
      "C:\\Users\\user\\Anaconda3\\lib\\site-packages\\ipykernel_launcher.py:3: SettingWithCopyWarning: \n",
      "A value is trying to be set on a copy of a slice from a DataFrame.\n",
      "Try using .loc[row_indexer,col_indexer] = value instead\n",
      "\n",
      "See the caveats in the documentation: http://pandas.pydata.org/pandas-docs/stable/indexing.html#indexing-view-versus-copy\n",
      "  This is separate from the ipykernel package so we can avoid doing imports until\n"
     ]
    }
   ],
   "source": [
    "police_df = dff[dff.PoliceDistrict.notnull()]\n",
    "police_df['PoliceDistrict'] = [item.upper() for item in police_df['PoliceDistrict']]\n",
    "police_df['PoliceDistrict'] = police_df['PoliceDistrict'].replace('NOTHEASTERN', 'NORTHEASTERN')"
   ]
  },
  {
   "cell_type": "code",
   "execution_count": 74,
   "metadata": {},
   "outputs": [],
   "source": [
    "district = set(police_df['PoliceDistrict'])"
   ]
  },
  {
   "cell_type": "code",
   "execution_count": 79,
   "metadata": {},
   "outputs": [],
   "source": [
    "sum_results = pd.DataFrame({'District':[], 'Mean_Fine':[]})\n",
    "mean_fine = []\n",
    "area = []"
   ]
  },
  {
   "cell_type": "code",
   "execution_count": 80,
   "metadata": {},
   "outputs": [],
   "source": [
    "for item in district:\n",
    "    mean_fine.append(np.mean(police_df['ViolFine'][police_df['PoliceDistrict']==item]))\n",
    "    area.append(item)"
   ]
  },
  {
   "cell_type": "code",
   "execution_count": 81,
   "metadata": {},
   "outputs": [
    {
     "data": {
      "text/html": [
       "<div>\n",
       "<style scoped>\n",
       "    .dataframe tbody tr th:only-of-type {\n",
       "        vertical-align: middle;\n",
       "    }\n",
       "\n",
       "    .dataframe tbody tr th {\n",
       "        vertical-align: top;\n",
       "    }\n",
       "\n",
       "    .dataframe thead th {\n",
       "        text-align: right;\n",
       "    }\n",
       "</style>\n",
       "<table border=\"1\" class=\"dataframe\">\n",
       "  <thead>\n",
       "    <tr style=\"text-align: right;\">\n",
       "      <th></th>\n",
       "      <th>District</th>\n",
       "      <th>Mean_Fine</th>\n",
       "    </tr>\n",
       "  </thead>\n",
       "  <tbody>\n",
       "    <tr>\n",
       "      <th>0</th>\n",
       "      <td>NORTHWESTERN</td>\n",
       "      <td>59.569724</td>\n",
       "    </tr>\n",
       "    <tr>\n",
       "      <th>1</th>\n",
       "      <td>SOUTHERN</td>\n",
       "      <td>53.766353</td>\n",
       "    </tr>\n",
       "    <tr>\n",
       "      <th>2</th>\n",
       "      <td>WESTERN</td>\n",
       "      <td>53.328439</td>\n",
       "    </tr>\n",
       "    <tr>\n",
       "      <th>3</th>\n",
       "      <td>NORTHEASTERN</td>\n",
       "      <td>60.911736</td>\n",
       "    </tr>\n",
       "    <tr>\n",
       "      <th>4</th>\n",
       "      <td>SOUTHEASTERN</td>\n",
       "      <td>48.011072</td>\n",
       "    </tr>\n",
       "    <tr>\n",
       "      <th>5</th>\n",
       "      <td>CENTRAL</td>\n",
       "      <td>44.607646</td>\n",
       "    </tr>\n",
       "    <tr>\n",
       "      <th>6</th>\n",
       "      <td>NORTHERN</td>\n",
       "      <td>47.774968</td>\n",
       "    </tr>\n",
       "    <tr>\n",
       "      <th>7</th>\n",
       "      <td>SOUTHWESTERN</td>\n",
       "      <td>58.415216</td>\n",
       "    </tr>\n",
       "    <tr>\n",
       "      <th>8</th>\n",
       "      <td>EASTERN</td>\n",
       "      <td>50.597735</td>\n",
       "    </tr>\n",
       "  </tbody>\n",
       "</table>\n",
       "</div>"
      ],
      "text/plain": [
       "       District  Mean_Fine\n",
       "0  NORTHWESTERN  59.569724\n",
       "1      SOUTHERN  53.766353\n",
       "2       WESTERN  53.328439\n",
       "3  NORTHEASTERN  60.911736\n",
       "4  SOUTHEASTERN  48.011072\n",
       "5       CENTRAL  44.607646\n",
       "6      NORTHERN  47.774968\n",
       "7  SOUTHWESTERN  58.415216\n",
       "8       EASTERN  50.597735"
      ]
     },
     "execution_count": 81,
     "metadata": {},
     "output_type": "execute_result"
    }
   ],
   "source": [
    "sum_results['District'] = area\n",
    "sum_results['Mean_Fine'] = mean_fine\n",
    "sum_results"
   ]
  },
  {
   "cell_type": "code",
   "execution_count": 83,
   "metadata": {},
   "outputs": [
    {
     "data": {
      "text/plain": [
       "[59.569723668402084,\n",
       " 53.7663527040178,\n",
       " 53.32843851586145,\n",
       " 60.9117357810195,\n",
       " 48.0110722172979,\n",
       " 44.60764594225582,\n",
       " 47.774968225299354,\n",
       " 58.41521598968407,\n",
       " 50.597735455751376]"
      ]
     },
     "execution_count": 83,
     "metadata": {},
     "output_type": "execute_result"
    }
   ],
   "source": [
    "mean_fine"
   ]
  },
  {
   "cell_type": "code",
   "execution_count": 115,
   "metadata": {},
   "outputs": [
    {
     "ename": "KeyError",
     "evalue": "0          82691651\n1          85937226\n2          82691115\n3          82694689\n4          82691214\n5          82688467\n6          82690141\n7          82688442\n8          82693525\n9          82687725\n10         82689150\n11         82692832\n12         82697393\n13         85937242\n14         85937259\n15         82689739\n16         82685372\n17         82692360\n18             1537\n19         82696254\n20         82694135\n21         82694655\n22         82696510\n23         82692410\n24         82688392\n25         82688582\n26         82692584\n27         82696536\n28         82691073\n29         85937275\n             ...   \n3379378    97967179\n3379379    98006589\n3379380    97951942\n3379381    97906870\n3379382    97917307\n3379383    98229694\n3379384    98317325\n3379385    98217145\n3379386    98317424\n3379387    98325369\n3379388    98281315\n3379389    98318141\n3379390    98340467\n3379391    98321061\n3379392    98323695\n3379393    98340103\n3379394    98301758\n3379395    98306641\n3379396    98278832\n3379397    98282941\n3379398    98295471\n3379399    98628010\n3379400    98499123\n3379401    98654131\n3379402    98719967\n3379403    98510788\n3379404    98883623\n3379405    99231400\n3379406    99463060\n3379407    99966302\nName: Citation, Length: 2840515, dtype: int64",
     "output_type": "error",
     "traceback": [
      "\u001b[1;31m---------------------------------------------------------------------------\u001b[0m",
      "\u001b[1;31mKeyError\u001b[0m                                  Traceback (most recent call last)",
      "\u001b[1;32m<ipython-input-115-018a12e31e66>\u001b[0m in \u001b[0;36m<module>\u001b[1;34m()\u001b[0m\n\u001b[1;32m----> 1\u001b[1;33m \u001b[0mdff\u001b[0m\u001b[1;33m.\u001b[0m\u001b[0msort_values\u001b[0m\u001b[1;33m(\u001b[0m\u001b[0mby\u001b[0m\u001b[1;33m=\u001b[0m\u001b[0mdff\u001b[0m\u001b[1;33m[\u001b[0m\u001b[1;34m'Citation'\u001b[0m\u001b[1;33m]\u001b[0m\u001b[1;33m,\u001b[0m \u001b[0mascending\u001b[0m\u001b[1;33m=\u001b[0m\u001b[1;32mFalse\u001b[0m\u001b[1;33m)\u001b[0m\u001b[1;33m\u001b[0m\u001b[0m\n\u001b[0m",
      "\u001b[1;32m~\\Anaconda3\\lib\\site-packages\\pandas\\core\\frame.py\u001b[0m in \u001b[0;36msort_values\u001b[1;34m(self, by, axis, ascending, inplace, kind, na_position)\u001b[0m\n\u001b[0;32m   4416\u001b[0m             \u001b[0mby\u001b[0m \u001b[1;33m=\u001b[0m \u001b[0mby\u001b[0m\u001b[1;33m[\u001b[0m\u001b[1;36m0\u001b[0m\u001b[1;33m]\u001b[0m\u001b[1;33m\u001b[0m\u001b[0m\n\u001b[0;32m   4417\u001b[0m             k = self._get_label_or_level_values(by, axis=axis,\n\u001b[1;32m-> 4418\u001b[1;33m                                                 stacklevel=stacklevel)\n\u001b[0m\u001b[0;32m   4419\u001b[0m \u001b[1;33m\u001b[0m\u001b[0m\n\u001b[0;32m   4420\u001b[0m             \u001b[1;32mif\u001b[0m \u001b[0misinstance\u001b[0m\u001b[1;33m(\u001b[0m\u001b[0mascending\u001b[0m\u001b[1;33m,\u001b[0m \u001b[1;33m(\u001b[0m\u001b[0mtuple\u001b[0m\u001b[1;33m,\u001b[0m \u001b[0mlist\u001b[0m\u001b[1;33m)\u001b[0m\u001b[1;33m)\u001b[0m\u001b[1;33m:\u001b[0m\u001b[1;33m\u001b[0m\u001b[0m\n",
      "\u001b[1;32m~\\Anaconda3\\lib\\site-packages\\pandas\\core\\generic.py\u001b[0m in \u001b[0;36m_get_label_or_level_values\u001b[1;34m(self, key, axis, stacklevel)\u001b[0m\n\u001b[0;32m   1377\u001b[0m             \u001b[0mvalues\u001b[0m \u001b[1;33m=\u001b[0m \u001b[0mself\u001b[0m\u001b[1;33m.\u001b[0m\u001b[0maxes\u001b[0m\u001b[1;33m[\u001b[0m\u001b[0maxis\u001b[0m\u001b[1;33m]\u001b[0m\u001b[1;33m.\u001b[0m\u001b[0mget_level_values\u001b[0m\u001b[1;33m(\u001b[0m\u001b[0mkey\u001b[0m\u001b[1;33m)\u001b[0m\u001b[1;33m.\u001b[0m\u001b[0m_values\u001b[0m\u001b[1;33m\u001b[0m\u001b[0m\n\u001b[0;32m   1378\u001b[0m         \u001b[1;32melse\u001b[0m\u001b[1;33m:\u001b[0m\u001b[1;33m\u001b[0m\u001b[0m\n\u001b[1;32m-> 1379\u001b[1;33m             \u001b[1;32mraise\u001b[0m \u001b[0mKeyError\u001b[0m\u001b[1;33m(\u001b[0m\u001b[0mkey\u001b[0m\u001b[1;33m)\u001b[0m\u001b[1;33m\u001b[0m\u001b[0m\n\u001b[0m\u001b[0;32m   1380\u001b[0m \u001b[1;33m\u001b[0m\u001b[0m\n\u001b[0;32m   1381\u001b[0m         \u001b[1;31m# Check for duplicates\u001b[0m\u001b[1;33m\u001b[0m\u001b[1;33m\u001b[0m\u001b[0m\n",
      "\u001b[1;31mKeyError\u001b[0m: 0          82691651\n1          85937226\n2          82691115\n3          82694689\n4          82691214\n5          82688467\n6          82690141\n7          82688442\n8          82693525\n9          82687725\n10         82689150\n11         82692832\n12         82697393\n13         85937242\n14         85937259\n15         82689739\n16         82685372\n17         82692360\n18             1537\n19         82696254\n20         82694135\n21         82694655\n22         82696510\n23         82692410\n24         82688392\n25         82688582\n26         82692584\n27         82696536\n28         82691073\n29         85937275\n             ...   \n3379378    97967179\n3379379    98006589\n3379380    97951942\n3379381    97906870\n3379382    97917307\n3379383    98229694\n3379384    98317325\n3379385    98217145\n3379386    98317424\n3379387    98325369\n3379388    98281315\n3379389    98318141\n3379390    98340467\n3379391    98321061\n3379392    98323695\n3379393    98340103\n3379394    98301758\n3379395    98306641\n3379396    98278832\n3379397    98282941\n3379398    98295471\n3379399    98628010\n3379400    98499123\n3379401    98654131\n3379402    98719967\n3379403    98510788\n3379404    98883623\n3379405    99231400\n3379406    99463060\n3379407    99966302\nName: Citation, Length: 2840515, dtype: int64"
     ]
    }
   ],
   "source": [
    "dff.sort_values(by=dff['Citation'], ascending=False)"
   ]
  },
  {
   "cell_type": "code",
   "execution_count": 88,
   "metadata": {},
   "outputs": [
    {
     "data": {
      "text/plain": [
       "1557"
      ]
     },
     "execution_count": 88,
     "metadata": {},
     "output_type": "execute_result"
    }
   ],
   "source": [
    "len(set(dff['Make']))"
   ]
  },
  {
   "cell_type": "code",
   "execution_count": 90,
   "metadata": {},
   "outputs": [
    {
     "name": "stderr",
     "output_type": "stream",
     "text": [
      "C:\\Users\\user\\Anaconda3\\lib\\site-packages\\ipykernel_launcher.py:1: SettingWithCopyWarning: \n",
      "A value is trying to be set on a copy of a slice from a DataFrame.\n",
      "Try using .loc[row_indexer,col_indexer] = value instead\n",
      "\n",
      "See the caveats in the documentation: http://pandas.pydata.org/pandas-docs/stable/indexing.html#indexing-view-versus-copy\n",
      "  \"\"\"Entry point for launching an IPython kernel.\n"
     ]
    }
   ],
   "source": [
    "dff['year'] = [item.year for item in dff['ViolDate']]"
   ]
  },
  {
   "cell_type": "code",
   "execution_count": 94,
   "metadata": {},
   "outputs": [],
   "source": [
    "dff_4_14 = dff[dff['year']>=2004]\n"
   ]
  },
  {
   "cell_type": "code",
   "execution_count": 95,
   "metadata": {},
   "outputs": [],
   "source": [
    "dff_4_14 = dff_4_14[dff_4_14['year']<=2014]"
   ]
  },
  {
   "cell_type": "code",
   "execution_count": 102,
   "metadata": {},
   "outputs": [
    {
     "data": {
      "text/plain": [
       "(610356, 22)"
      ]
     },
     "execution_count": 102,
     "metadata": {},
     "output_type": "execute_result"
    }
   ],
   "source": [
    "dff_4_14.shape"
   ]
  },
  {
   "cell_type": "code",
   "execution_count": 103,
   "metadata": {},
   "outputs": [
    {
     "data": {
      "text/html": [
       "<div>\n",
       "<style scoped>\n",
       "    .dataframe tbody tr th:only-of-type {\n",
       "        vertical-align: middle;\n",
       "    }\n",
       "\n",
       "    .dataframe tbody tr th {\n",
       "        vertical-align: top;\n",
       "    }\n",
       "\n",
       "    .dataframe thead th {\n",
       "        text-align: right;\n",
       "    }\n",
       "</style>\n",
       "<table border=\"1\" class=\"dataframe\">\n",
       "  <thead>\n",
       "    <tr style=\"text-align: right;\">\n",
       "      <th></th>\n",
       "      <th>year</th>\n",
       "      <th>num_citations</th>\n",
       "    </tr>\n",
       "  </thead>\n",
       "  <tbody>\n",
       "    <tr>\n",
       "      <th>0</th>\n",
       "      <td>2004</td>\n",
       "      <td>162</td>\n",
       "    </tr>\n",
       "    <tr>\n",
       "      <th>1</th>\n",
       "      <td>2005</td>\n",
       "      <td>1136</td>\n",
       "    </tr>\n",
       "    <tr>\n",
       "      <th>2</th>\n",
       "      <td>2006</td>\n",
       "      <td>5550</td>\n",
       "    </tr>\n",
       "    <tr>\n",
       "      <th>3</th>\n",
       "      <td>2007</td>\n",
       "      <td>50049</td>\n",
       "    </tr>\n",
       "    <tr>\n",
       "      <th>4</th>\n",
       "      <td>2008</td>\n",
       "      <td>41672</td>\n",
       "    </tr>\n",
       "    <tr>\n",
       "      <th>5</th>\n",
       "      <td>2009</td>\n",
       "      <td>42719</td>\n",
       "    </tr>\n",
       "    <tr>\n",
       "      <th>6</th>\n",
       "      <td>2010</td>\n",
       "      <td>45842</td>\n",
       "    </tr>\n",
       "    <tr>\n",
       "      <th>7</th>\n",
       "      <td>2011</td>\n",
       "      <td>129722</td>\n",
       "    </tr>\n",
       "    <tr>\n",
       "      <th>8</th>\n",
       "      <td>2012</td>\n",
       "      <td>160453</td>\n",
       "    </tr>\n",
       "    <tr>\n",
       "      <th>9</th>\n",
       "      <td>2013</td>\n",
       "      <td>53916</td>\n",
       "    </tr>\n",
       "    <tr>\n",
       "      <th>10</th>\n",
       "      <td>2014</td>\n",
       "      <td>79135</td>\n",
       "    </tr>\n",
       "  </tbody>\n",
       "</table>\n",
       "</div>"
      ],
      "text/plain": [
       "    year  num_citations\n",
       "0   2004            162\n",
       "1   2005           1136\n",
       "2   2006           5550\n",
       "3   2007          50049\n",
       "4   2008          41672\n",
       "5   2009          42719\n",
       "6   2010          45842\n",
       "7   2011         129722\n",
       "8   2012         160453\n",
       "9   2013          53916\n",
       "10  2014          79135"
      ]
     },
     "execution_count": 103,
     "metadata": {},
     "output_type": "execute_result"
    }
   ],
   "source": [
    "year_df = pd.DataFrame({'year':[], 'num_citations':[]})\n",
    "year = range(2004,2015)\n",
    "num_citations = []\n",
    "\n",
    "for item in year:\n",
    "    num_citations.append(len(dff_4_14['year'][dff_4_14['year']==item]))\n",
    "    \n",
    "year_df['year'] = year\n",
    "year_df['num_citations'] = num_citations\n",
    "year_df"
   ]
  },
  {
   "cell_type": "code",
   "execution_count": 105,
   "metadata": {},
   "outputs": [
    {
     "data": {
      "text/plain": [
       "<matplotlib.collections.PathCollection at 0x17c02e62fd0>"
      ]
     },
     "execution_count": 105,
     "metadata": {},
     "output_type": "execute_result"
    },
    {
     "data": {
      "image/png": "[encoded data removed]",
      "text/plain": [
       "<Figure size 432x288 with 1 Axes>"
      ]
     },
     "metadata": {},
     "output_type": "display_data"
    }
   ],
   "source": [
    "plt.scatter(year,num_citations)"
   ]
  },
  {
   "cell_type": "code",
   "execution_count": null,
   "metadata": {},
   "outputs": [],
   "source": []
  }
 ],
 "metadata": {
  "kernelspec": {
   "display_name": "Python 3",
   "language": "python",
   "name": "python3"
  },
  "language_info": {
   "codemirror_mode": {
    "name": "ipython",
    "version": 3
   },
   "file_extension": ".py",
   "mimetype": "text/x-python",
   "name": "python",
   "nbconvert_exporter": "python",
   "pygments_lexer": "ipython3",
   "version": "3.6.5"
  }
 },
 "nbformat": 4,
 "nbformat_minor": 2
}
